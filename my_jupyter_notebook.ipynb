{
  "cells": [
    {
      "cell_type": "code",
      "execution_count": 2,
      "id": "223a7006-1495-41ab-9c85-b8cc8219a155",
      "metadata": {
        "id": "223a7006-1495-41ab-9c85-b8cc8219a155",
        "outputId": "a28118ea-36f8-4d3b-9a28-9f7b88ae315d",
        "colab": {
          "base_uri": "https://localhost:8080/"
        }
      },
      "outputs": [
        {
          "output_type": "execute_result",
          "data": {
            "text/plain": [
              "7"
            ]
          },
          "metadata": {},
          "execution_count": 2
        }
      ],
      "source": [
        "a = 4\n",
        "b = 3\n",
        "a + b"
      ]
    },
    {
      "cell_type": "code",
      "execution_count": 3,
      "id": "f72dd28e-6f01-4c0d-82f1-00821513b6e7",
      "metadata": {
        "id": "f72dd28e-6f01-4c0d-82f1-00821513b6e7",
        "outputId": "93188c5c-240c-4b17-d5ec-2d9eb6617be8",
        "colab": {
          "base_uri": "https://localhost:8080/"
        }
      },
      "outputs": [
        {
          "output_type": "execute_result",
          "data": {
            "text/plain": [
              "1"
            ]
          },
          "metadata": {},
          "execution_count": 3
        }
      ],
      "source": [
        "a - b"
      ]
    },
    {
      "cell_type": "code",
      "execution_count": 4,
      "id": "3323aa11-4550-4f5c-99af-9b2072ac5215",
      "metadata": {
        "id": "3323aa11-4550-4f5c-99af-9b2072ac5215",
        "outputId": "2ef433b5-98b9-4771-9312-2316ed9acfd6",
        "colab": {
          "base_uri": "https://localhost:8080/"
        }
      },
      "outputs": [
        {
          "output_type": "execute_result",
          "data": {
            "text/plain": [
              "60"
            ]
          },
          "metadata": {},
          "execution_count": 4
        }
      ],
      "source": [
        "c = 15\n",
        "a * c"
      ]
    },
    {
      "cell_type": "code",
      "source": [],
      "metadata": {
        "id": "TjuQG61sDm3w"
      },
      "id": "TjuQG61sDm3w",
      "execution_count": null,
      "outputs": []
    }
  ],
  "metadata": {
    "kernelspec": {
      "display_name": "Python 3 (ipykernel)",
      "language": "python",
      "name": "python3"
    },
    "language_info": {
      "codemirror_mode": {
        "name": "ipython",
        "version": 3
      },
      "file_extension": ".py",
      "mimetype": "text/x-python",
      "name": "python",
      "nbconvert_exporter": "python",
      "pygments_lexer": "ipython3",
      "version": "3.10.12"
    },
    "colab": {
      "provenance": []
    }
  },
  "nbformat": 4,
  "nbformat_minor": 5
}